{
 "cells": [
  {
   "cell_type": "markdown",
   "metadata": {},
   "source": [
    "## CSCI-UA 9473 Final Assignment\n",
    "\n",
    "Total: 55pts"
   ]
  },
  {
   "cell_type": "markdown",
   "metadata": {},
   "source": [
    "In this last assignment, you will get to work on each of the learning frameworks that we introduced throughout the course. The assignement is organized in Three main parts.\n",
    "\n",
    "- Supervised Learning\n",
    "- Unsupervised Learning\n",
    "- Reinforcement Learning \n",
    "\n",
    "The Total (final) grade will be computed according to the following rule \n",
    "\n",
    "\n",
    "\n",
    "__if__ Mean(Assignment1,Assignment2,Assignment3)< Assignment4 \n",
    "\n",
    "    \n",
    "    Total grade = 0.25*Mean(Assignment1+Assignment2+Assignment3) + 0.75*Assignment4\n",
    "    \n",
    "__else if__ Mean(Assignment1,Assignment2,Assignment3)> Assignment4 \n",
    "\n",
    "    \n",
    "    Total grade = 0.75*Mean(Assignment1+Assignment2+Assignment3) + 0.25*Assignment4\n",
    "    \n",
    "    "
   ]
  },
  {
   "cell_type": "markdown",
   "metadata": {},
   "source": [
    "### Part I. Supervised Learning (25pts)"
   ]
  },
  {
   "cell_type": "markdown",
   "metadata": {},
   "source": [
    "#### Exercise I.1.1 Regression tree (5pts)\n",
    "\n",
    "Tree based methods are simple methods that can be used in both regression and classification. The idea is to split the space into regions and then approximate the data by taking the mean of the targets from each region. The approach starts by splitting the space into two regions $R_1$ and $R_2$. Each of the two regions is then itself split into two more regions, $R_{11}$, $R_{12}$ such that $R_{11}\\cup R_{12} = R_{1}$ and $R_{21}$, $R_{22}$ such that $R_{21}\\cup R_{22} = R_{2}$. By proceeding like this, we end up with a model of the form\n",
    "\n",
    "$$f(x) = \\sum_{m=1}^M c_m I(x\\in R_m)$$\n",
    "\n",
    "where $I(x\\in R_m)$ is a function that takes the value $1$ when $x$ belongs to the subregion $R_m$ and $0$ otherwise. \n",
    "\n",
    "if we minimize the sum of squares, one can show that the optimal value for the coefficients $c_m$ is the average of the targets from region $R_m$, i.e. \n",
    "\n",
    "$$\\hat{c}_m = \\frac{1}{N_m}\\sum_{x_i\\in R_m} t_i$$\n",
    "\n",
    "Now finding the optimal region separation is more tricky. For this reason, the algorithm usually relies on some greedy procedure. \n",
    "\n",
    "For a splitting value $s$, Let $R_1(j,s)$ and $R_2(j,s)$ denote the regions we want to get (with respect to the coordinate/feature $j$), i.e. $R_1(j,s) = \\left\\{\\mathbf{x}|x_j\\leq s\\right\\} $ and $R_2(j,s) = \\left\\{\\mathbf{x}|x_j>s\\right\\}$.\n",
    "\n",
    "In order to find the optimal value $s$, we solve the following problem\n",
    "\n",
    "$$\\min_{(j,s)} \\left[\\min_{c_1} \\sum_{\\mathbf{x}_i\\in R_1(j,s)} (t_i - c_1)^2 + \\min_{c_2} \\sum_{\\mathbf{x}_i\\in R_2(s,j)} (t_i - c_2)^2\\right]\\quad (*)$$\n",
    "\n",
    "As explained before, we can take $c_1$ and $c_2$ to be the averages of the targets from each region. To determine the split, for convenience, we can take it to happen at one of the points from the training set, $\\mathbf{s} = \\mathbf{x}_i$ for some $i\\in \\mathcal{D}$. From this computing the optimal splitting for the criterion (*) becomes easier as we are left with computing the value of this criterion for $s = \\mathbf{x}_i$ given by any of the points from the training set. And return the value that achieves the minimum.  \n",
    "\n",
    "Consider the dataset below. Compute the Regression tree for this dataset. You can stop when you reach a certain node size (take it to be $2$ for example)"
   ]
  },
  {
   "cell_type": "code",
   "execution_count": 269,
   "metadata": {},
   "outputs": [
    {
     "data": {
      "image/png": "[encoded data removed]",
      "text/plain": [
       "<Figure size 432x288 with 1 Axes>"
      ]
     },
     "metadata": {
      "needs_background": "light"
     },
     "output_type": "display_data"
    }
   ],
   "source": [
    "from scipy.io import loadmat\n",
    "Points1 = loadmat('Points1_ExTree.mat')\n",
    "Points2 = loadmat('Points2_ExTree.mat')\n",
    "Points3 = loadmat('Points3_ExTree.mat')\n",
    "Points4 = loadmat('Points4_ExTree.mat')\n",
    "\n",
    "\n",
    "Points1 = Points1['Points1_ExTree']\n",
    "Points2 = Points2['Points2_ExTree']\n",
    "Points3 = Points3['Points3_ExTree']\n",
    "Points4 = Points4['Points4_ExTree']\n",
    "\n",
    "\n",
    "import matplotlib.pyplot as plt\n",
    "plt.scatter(Points1[:,0], Points1[:,1])\n",
    "plt.scatter(Points2[:,0], Points2[:,1])\n",
    "plt.scatter(Points3[:,0], Points3[:,1])\n",
    "plt.scatter(Points4[:,0], Points4[:,1])\n",
    "plt.show()\n",
    "\n",
    "\n",
    "target_1 = np.ones(np.shape(Points1)[0])\n",
    "target_2 = 2*np.ones(np.shape(Points1)[0])\n",
    "target_3 = 3*np.ones(np.shape(Points1)[0])\n",
    "target_4 = 4*np.ones(np.shape(Points1)[0])\n",
    "\n"
   ]
  },
  {
   "cell_type": "code",
   "execution_count": 270,
   "metadata": {},
   "outputs": [
    {
     "name": "stdout",
     "output_type": "stream",
     "text": [
      "min at index 0 : 1.0\n",
      "min at index 1 : 1.0\n",
      "min at index 2 : 1.0\n",
      "min at index 3 : 1.0\n",
      "min at index 4 : 1.0\n",
      "min at index 5 : 1.0\n",
      "min at index 6 : 1.0\n",
      "min at index 7 : 1.0\n",
      "min at index 8 : 1.0\n",
      "min at index 9 : 1.0\n",
      "None\n"
     ]
    },
    {
     "data": {
      "image/png": "[encoded data removed]",
      "text/plain": [
       "<Figure size 432x288 with 1 Axes>"
      ]
     },
     "metadata": {
      "needs_background": "light"
     },
     "output_type": "display_data"
    }
   ],
   "source": [
    "# put your code here\n",
    "\n",
    "def c_average(C):\n",
    "    row = C[:,0].sum()/C.shape[0]\n",
    "    col = C[:,1].sum()/C.shape[0]\n",
    "    return np.array([row,col])\n",
    "\n",
    "def split_points(t, t1, t2):\n",
    "    m = 100\n",
    "    index = 0\n",
    "    for target in t:\n",
    "        return_index = None\n",
    "        s1 = np.square(target - t1)\n",
    "        s2 = np.square(target - t2)\n",
    "        new_m = s1 + s2\n",
    "        print(\"min at index\", index, \":\", new_m)\n",
    "        if new_m < m:\n",
    "            return_index = index\n",
    "            m = new_m\n",
    "        index+=1\n",
    "    return return_index\n",
    "\n",
    "points = np.concatenate([Points1, Points2, Points3, Points4])\n",
    "targets = np.concatenate([target_1, target_2, target_3, target_4])\n",
    "\n",
    "c1 = c_average(Points1)\n",
    "t1 = target_1.mean()\n",
    "c2 = c_average(Points2)\n",
    "t2 = target_2.mean()\n",
    "c3 = c_average(Points3)\n",
    "t3 = target_3.mean()\n",
    "c4 = c_average(Points4)\n",
    "t4 = target_4.mean()\n",
    "\n",
    "#print(points[split_points(targets[:10],t1,t2)])\n",
    "print(split_points(targets[:10],t1,t2))\n",
    "\n",
    "plt.scatter(Points1[:,0], Points1[:,1])\n",
    "plt.scatter(Points2[:,0], Points2[:,1])\n",
    "plt.scatter(Points3[:,0], Points3[:,1])\n",
    "plt.scatter(Points4[:,0], Points4[:,1])\n",
    "plt.show()\n"
   ]
  },
  {
   "cell_type": "markdown",
   "metadata": {},
   "source": [
    "#### Exercise I.1.2. Weakest link (5pts)\n",
    "\n",
    "Once we have built a sufficiently deep tree, we are left with determining whether one cannot reduce the depth of this tree (i.e. how coarse the model can be while still achieving sufficient accuracy). A (too) fine model will obviously lead to overfitting. For any tree, we define the set of leaf nodes (i.e. final set of regions) as $M$. We will use this parameter to encode the complexity of the tree. \n",
    "\n",
    "We can define the error that we make with a particular tree by considering the error on each region and summing those error terms across each region. If we let $R_m$ to denote the (average) error induced by region $R_m$, \n",
    "\n",
    "$$Q_m(T) = \\frac{1}{N_m} \\sum_{x_i\\in R_m} (t_i - \\hat{c}_m)^2$$\n",
    "\n",
    "To account for the complexity of the tree, one can also extend this cost into a loss $\\ell(T)$ which penalize complex trees (with a large number of leaf nodes $M$) as\n",
    "\n",
    "$$\\ell(T) = \\sum_{m=1}^M N_m Q_m(T) + \\alpha M$$\n",
    "\n",
    "We can then look for the optimal tree for any particular value of $\\alpha$. \n",
    "\n",
    "The search for the optimal $\\alpha$ and the associated tree is usually done through a procedure known as _weakest link prunning_ which works as follows \n",
    "\n",
    "For any node other than the leaf nodes, we can study how much of an improvement one can get by deleting the subtree located below the node. To do this, we proceed as follows. For any given subtree, we can define the costs $\\tilde{R}(t) = Q(t) + \\alpha$ and $R(T_t) = Q(T_t) + \\alpha|T_t|$. The first one is the cost of the node $t$ (that is the contribution if we removed the whole subtree below $t$) and the second one is the contribution of the term if we were to keep all the leaf of the subtree. For each node in $T_0$, we can look for the $\\alpha$ at which $R(T_t)>R(t)$. In other words, we look for the value $\\alpha$ such that \n",
    "\n",
    "$$Q(t) + \\alpha < Q(T_t) + \\alpha|T_t|$$\n",
    "\n",
    "This is equivalent to looking for the  $\\alpha$ such that $\\alpha>\\frac{Q(t)-Q(T_t)}{|T_t|-t}$. We can do this for every node $t$. The _weakest link_ $t'$ is then the connection for which the $\\alpha(t')$ is the smallest. If there are multiple nodes achieving the same minimum we remove all the sub-branches associated to those nodes. We define the next subtree by removing the sub-branches for _Weakest link_ $t'$. Let us denote that subtree as $T'$. We then repeat the procedure on $T'$, looking for the nodes with smallest $\\alpha$. The procedure generates a sequence of subtrees $T, T', T''$ with associated values $\\alpha_0, \\alpha_1, \\ldots$. \n",
    "\n",
    "Implement _weakest link prunning_ below. "
   ]
  },
  {
   "cell_type": "code",
   "execution_count": 271,
   "metadata": {},
   "outputs": [],
   "source": [
    "import numpy as np\n",
    "\n",
    "\n"
   ]
  },
  {
   "cell_type": "markdown",
   "metadata": {},
   "source": [
    "#### Exercise I.1.3. Cross validation (5pts)\n",
    "\n",
    "Given the sequence of subtrees $T_0,T_1, T_2,\\ldots$ and its accompanying sequence of weights $\\alpha_0,\\alpha_1,\\ldots$, one can show that the sequence contains the optimal $\\alpha^*$. To find this $\\alpha^*$, one can use $k$-fold cross validation. \n",
    "\n",
    "Divide the dataset into $K$ bins of size $N/K$. For each of those bins, we will use one bin as our validation/test set and the remaining $K-1$ bins as our training set. \n",
    "\n",
    "1- Using the training set, compute the tree for each of the values of $\\alpha$ obtained above. You don't need to optimize anything as the value on a region is defined as the average of the targets in this region and the number of levels can be set by only retaining those subtrees for which $R_\\alpha(t)>R_{\\alpha}(T_t)$\n",
    "\n",
    "2-Once you have computed all the subtrees, evaluate the prediction error for those subtrees on the set consisting of the remaining $K$ points. The prediction error is just the average target ($c_m$) from the region in which the new points is located minus the true target of this point.\n",
    "\n",
    "And compute the average error as \n",
    "\n",
    "$$E(\\alpha) = \\frac{1}{N}\\sum_{i=1}^N (\\text{prediction}_{T_k(\\alpha)}(\\mathbf{x}_i) - t_i)^2$$\n",
    "\n",
    "where $N$ is the total number of points in the dataset and $\\text{prediction}_{T_k}$ is the prediction obtained on the tree $T_k(\\alpha)$ learned on the set of $N - K$ points to which $\\mathbf{x}_i$ did not belong (i.e. learned without $\\mathbf{x}_i$)\n",
    "\n",
    "\n",
    "Select the $\\alpha$ which gives the smallest error.\n",
    "\n",
    "Take $k$ between $2$ and $4$ and find the optimal $\\alpha$. "
   ]
  },
  {
   "cell_type": "code",
   "execution_count": 272,
   "metadata": {},
   "outputs": [],
   "source": [
    "# put your code here\n",
    "\n"
   ]
  },
  {
   "cell_type": "markdown",
   "metadata": {
    "collapsed": true
   },
   "source": [
    "#### Exercise I.2. Bias-Variance (10pts)\n",
    "\n",
    "In this exercise, we will study the decomposition of the prediction error into the bias and variance contribution for a simple regression model. For a given learning model, the prediction error can read as\n",
    "\n",
    "$$\\mathbb{E}\\left\\{(f(\\mathbf{x},\\theta)) - t(\\mathbf{x}))^2\\right\\}$$\n",
    "\n",
    "After some calculation, this expression can reduce to\n",
    "\n",
    "$$\\mathbb{E}_D\\left\\{(f_D(\\mathbf{x},\\theta)) - t(\\mathbf{x}))^2\\right\\} = \\left(\\mathbb{E}\\left\\{f_d(\\mathbf{x}, \\theta)\\right\\} - t(\\mathbf{x})\\right)^2 + \\mathbb{E}_D\\left\\{\\left(f_D(\\mathbf{x}; \\theta) - \\mathbb{E}_D\\left\\{f_D(\\mathbf{x}, \\theta)\\right\\}\\right)^2\\right\\}$$\n",
    "\n",
    "In this expression, the first term represents the squared bias (that is how much the choice of the family of models we pick differs is able to capture of the measurements we have on average). In the second term, you can recognize the expression of the variance. This second term captures how much the models vary within a particular family of models when we change the subset $D$ on which we learn the models. \n",
    "\n",
    "\n",
    "In this exercise, we will illustrate this decomposition. for a simple regression model on noisy degree $3$ datasets with model of degrees from $0$ to $5$\n",
    "\n",
    "Consider the noisy dataset below. For the sake of the exercise, we will not change the dataset each time when computing the average, but rather just generate new points by changing the noise. "
   ]
  },
  {
   "cell_type": "code",
   "execution_count": 273,
   "metadata": {},
   "outputs": [
    {
     "data": {
      "image/png": "[encoded data removed]",
      "text/plain": [
       "<Figure size 432x288 with 1 Axes>"
      ]
     },
     "metadata": {
      "needs_background": "light"
     },
     "output_type": "display_data"
    }
   ],
   "source": [
    "import numpy as np\n",
    "import matplotlib.pyplot as plt\n",
    "\n",
    "x = np.linspace(-1,1,10)\n",
    "y = x**3 + x**2 + 2*x + 1\n",
    "\n",
    "numTest = 400\n",
    "\n",
    "ynoisy = y +np.random.normal(0,.6,len(x))\n",
    "\n",
    "plt.scatter(x, ynoisy)\n",
    "plt.plot(x, y)\n",
    "plt.show()"
   ]
  },
  {
   "cell_type": "markdown",
   "metadata": {},
   "source": [
    "To represent the three terms (bias, variance and Mean Squared Error) code the following steps \n",
    "\n",
    "__1.__ We will write two nested loops. The first one on the maximum degree of the regression model. The second one on the number of experiments. For each experiments we will generate new points as we did above but with a different noise vector. That is re-use a line of the form ynoisy = y +np.random.normal(0,.6,len(x)) for each XP   \n",
    "\n",
    "\n",
    "__2.__ In each experiment, for each maximum degree of the regression model (0,1,..5), generate the polynomial features up to this degree and learn the regression model on the noisy points with the LinearRegression function from scikit (just use the plain simple synthax : LinearRegression(), no need for any argument and fit the model to the noisy points)\n",
    "\n",
    "\n",
    "__3.__ For each experiment keep track of the models you learn by using the points xprediction below and computing the prediction of the model at those points. Store those predictions in a matrix of size num_MaxDegree x numXP\n",
    "\n",
    "\n",
    "__4.__ Compute each of the three terms (bias, variance and Mean squared error = Bias + variance) by using the expressions given above. \n",
    "\n",
    "\n",
    "__5.__ plot the results"
   ]
  },
  {
   "cell_type": "code",
   "execution_count": 274,
   "metadata": {},
   "outputs": [
    {
     "data": {
      "image/png": "[encoded data removed]",
      "text/plain": [
       "<Figure size 432x288 with 1 Axes>"
      ]
     },
     "metadata": {
      "needs_background": "light"
     },
     "output_type": "display_data"
    }
   ],
   "source": [
    "import numpy as np\n",
    "import matplotlib.pyplot as plt\n",
    "from sklearn.preprocessing import PolynomialFeatures\n",
    "\n",
    "x = np.linspace(-1,1,10)\n",
    "y = x**3 + x**2 + 2*x + 1\n",
    "\n",
    "maxDegree = 5\n",
    "numTest = 400\n",
    "\n",
    "from sklearn.linear_model import LinearRegression\n",
    "\n",
    "\n",
    "xprediction = np.linspace(-1,1,100)\n",
    "                \n",
    "    \n",
    "averagePrediction = np.zeros((len(xprediction),maxDegree))  \n",
    "true = np.zeros((len(xprediction),maxDegree))  \n",
    "variance = np.zeros((len(xprediction),maxDegree))  \n",
    "bias = np.zeros((len(xprediction),maxDegree))  \n",
    "\n",
    "    \n",
    "for dmax in np.arange(0,maxDegree):\n",
    "\n",
    "    \n",
    "    ynoisy = np.zeros((len(x),numTest))\n",
    "    predictionTesti = np.zeros((len(xprediction),numTest))\n",
    "\n",
    "    clf = LinearRegression()\n",
    "\n",
    "    for testi in np.arange(0,numTest):\n",
    "\n",
    "        ynoisy[:,testi] = y +np.random.normal(0,.6,len(x))\n",
    "        \n",
    "        \n",
    "        '''put your code here. Generate the polynomial features up to degree dmax and fit the clf model'''\n",
    "        xprediction = xprediction.reshape(-1,1)\n",
    "        x = x.reshape(-1,1)\n",
    "        p_features = PolynomialFeatures(degree=maxDegree)\n",
    "        clf.fit(p_features.fit_transform(x), y)\n",
    "        predictionTesti[:,testi] = clf.predict(p_features.fit_transform(xprediction)) # fill in the matrix with the predictions from each model\n",
    "        \n",
    "\n",
    "    averagePrediction[:,dmax] = np.mean(predictionTesti,axis = 1) # Compute the average prediction across the XPs\n",
    "    \n",
    "    \n",
    "    centeredPrediction = predictionTesti - np.expand_dims(averagePrediction[:,dmax],axis=1)\n",
    "    \n",
    "    variance[:,dmax] = np.square(np.mean(centeredPrediction, axis=1)) # Compute the variance by averaging over the XP (see expression above)\n",
    "    \n",
    "    true[:,dmax] =  model.predict(xprediction) # compute the prediction from the noiselss model to get the targets of the points in xprediction\n",
    "    \n",
    "    bias[:,dmax] = np.square(averagePrediction[:,dmax] - true[:,dmax]) # Compute the bias by averaging over the XP (see expression above)\n",
    "    \n",
    "    model = LinearRegression()\n",
    "    model.fit(x,y)\n",
    "\n",
    "'''plot the result using the lines below'''        \n",
    "\n",
    "plt.semilogy(np.arange(0,maxDegree), np.mean(bias,axis=0), label='bias')\n",
    "plt.semilogy(np.arange(0,maxDegree), np.mean(variance,axis=0), label = 'variance')\n",
    "plt.semilogy(np.arange(0,maxDegree), np.mean(bias,axis=0).reshape(-1,1) + np.mean(variance,axis=0).reshape(-1,1), label = 'MSE')\n",
    "\n",
    "plt.legend() \n",
    "\n",
    "plt.show()\n",
    "\n",
    "\n",
    "\n"
   ]
  },
  {
   "cell_type": "markdown",
   "metadata": {},
   "source": [
    "Desired result :\n",
    "    \n",
    "<img src=\"desiredResultAssign4.png\" width=\"500\" height=\"300\">"
   ]
  },
  {
   "cell_type": "markdown",
   "metadata": {
    "collapsed": true
   },
   "source": [
    "### Part II. Unsupervised Learning (20pts)"
   ]
  },
  {
   "cell_type": "markdown",
   "metadata": {
    "collapsed": true
   },
   "source": [
    "### Exercise II.1.  Clustering and latent representation\n",
    "\n",
    "The lines below can be used to load and display (low resolution) images of digits from 0 to 9. The labels associated to each image are stored in the vector $y$. From this vector, only retain the images representing $4$ and $3$. We will temporarily forget about the labels for now and learn a 2D representation of the images through ISOMAP. "
   ]
  },
  {
   "cell_type": "code",
   "execution_count": 275,
   "metadata": {},
   "outputs": [
    {
     "data": {
      "image/png": "[encoded data removed]",
      "text/plain": [
       "<Figure size 432x288 with 1 Axes>"
      ]
     },
     "metadata": {
      "needs_background": "light"
     },
     "output_type": "display_data"
    }
   ],
   "source": [
    "import numpy as np\n",
    "from sklearn import datasets\n",
    "import matplotlib.pyplot as plt\n",
    "\n",
    "digits = datasets.load_digits(n_class=10)\n",
    "X = digits.data\n",
    "y = digits.target\n",
    "n_samples, n_features = X.shape\n",
    "\n",
    "three = []\n",
    "four = []\n",
    "\n",
    "for index, value in enumerate(y):\n",
    "    if value == 3:\n",
    "        three.append(X[index]) \n",
    "    elif value == 4:\n",
    "        four.append(X[index])\n",
    "\n",
    "three = np.array(three)\n",
    "four = np.array(four)\n",
    "arr = np.concatenate((three,four))\n",
    "t3 = 3*np.ones(three.shape[0])\n",
    "t4 = 4*np.ones(four.shape[0])\n",
    "target = np.concatenate((t3,t4))\n",
    "\n",
    "plt.figure()\n",
    "plt.imshow(np.reshape(arr[10,:], (8,8)),cmap='gray') \n",
    "plt.show()  "
   ]
  },
  {
   "cell_type": "markdown",
   "metadata": {},
   "source": [
    "#### Question II.1.1 Building the graph (5pts)\n",
    "\n",
    "We will start by building the graph representing the data. For this, we will follow the steps below \n",
    "\n",
    "\n",
    "__1.__ Center the dataset as $\\mathbf{x}_i \\leftarrow \\mathbf{x}_i - \\mathbb{E}_i\\mathbf{x}_i$\n",
    "\n",
    "__2.__ Compute the matrix of pairwise distances between the centered images. You can do this either by hand, noting that $D(\\mathbf{x}_i, \\mathbf{x}_j) = \\|\\mathbf{x}_i\\|^2 + \\|\\mathbf{x}_j\\|^2 - 2\\langle \\mathbf{x}_i, \\mathbf{x}_j\\rangle$ or using a call to the 'pairwise_distances' function from scikit learn. \n",
    "\n",
    "__3.__ Once you have the distance matrix, obtain the matrix of scalar products by squaring the distances and applying double centering\n",
    "\n",
    "$$\\mathbf{S} = -\\frac{1}{2}(\\mathbf{I} - \\frac{1}{n}\\mathbf{1}\\mathbf{1}^T)\\mathbf{D}^2(\\mathbf{I} - \\frac{1}{n}\\mathbf{1}\\mathbf{1}^T)$$\n",
    "\n",
    "where $\\mathbf{1} = \\left[1,1,\\ldots,1\\right]$ is a vector of all ones and $\\mathbf{I}$ is the indentity matrix.\n",
    "\n",
    "__4.__ Compute the graph representation. The graph $\\mathcal{G} = (\\mathcal{V}, \\mathcal{E})$ si defined on a set of vertices $\\mathcal{V}$ and a set of edges between those vertices $\\mathcal{E}$. The set of vertices corresponds to the set of images in the original dataset. The set of edges will be defined according to the $K$-rule as explained below.\n",
    "\n",
    "We will represent the graph through its adjacency matrix $A$ where $A_{ij} = 1$ if we draw an edge between vertex $i$ and vertex $j$. To build this adjacency matrix, we will add an edge between image $\\mathbf{x}_i$ and image $\\mathbf{x}_j$ whenever $\\mathbf{x}_j$ is among the $K$ nearest neighbors of $\\mathbf{x}_i$. \n",
    "\n",
    "\n"
   ]
  },
  {
   "cell_type": "code",
   "execution_count": 276,
   "metadata": {},
   "outputs": [
    {
     "name": "stdout",
     "output_type": "stream",
     "text": [
      "7.320151810715317e-16\n"
     ]
    }
   ],
   "source": [
    "#https://www.kaggle.com/c/digit-recognizer/discussion/6366\n",
    "\n",
    "from __future__ import division\n",
    "from sklearn.metrics import pairwise_distances\n",
    "center = arr - np.mean(arr)\n",
    "\n",
    "def double_centering(X):\n",
    "    square = np.square(pairwise_distances(center))\n",
    "\n",
    "    N = np.shape(square)[0]\n",
    "\n",
    "    S = np.dot((np.eye(N) - (1/N)*np.dot(np.ones((N, 1)), np.ones((N, 1)).T)), square)\n",
    "    S = np.dot(S, (np.eye(N) - (1/N)*np.dot(np.ones((N, 1)), np.ones((N, 1)).T)))\n",
    "    S = S * (-1/2)\n",
    "    \n",
    "    return S\n",
    "\n",
    "print(center.mean())"
   ]
  },
  {
   "cell_type": "code",
   "execution_count": 277,
   "metadata": {},
   "outputs": [],
   "source": [
    "def nearest_neighbors(X, k):\n",
    "    knn_mat = np.zeros((len(X),k))\n",
    "    distance = pairwise_distances(center.astype(np.float64))\n",
    "    for i in range(len(X)):\n",
    "        knn_mat[i] = distance[i,:].argsort()[1:k+1]\n",
    "    return knn_mat\n",
    "\n",
    "def adjacency_matrix(knn, S):\n",
    "    A = np.zeros(shape=(364,364))\n",
    "    for i in range(S.shape[0]):\n",
    "        for j in range(S.shape[1]):\n",
    "            if i == j:\n",
    "                continue\n",
    "            if j in knn[i]:\n",
    "                A[i][j] = 1 \n",
    "            else:\n",
    "                A[i][j] = 999\n",
    "    return A"
   ]
  },
  {
   "cell_type": "markdown",
   "metadata": {},
   "source": [
    "#### Question II.1.2 Computing the geodesic distances (5pts)\n",
    "\n",
    "__1.__ Once we have the graph representation of the data, we need to compute the shortest path between any two vertices in this graph (shortest geodesic distance between any two images). To do that, connect the vertices that were not connected by the K nearest neighbors approach, with an edge of sufficiently large weight (To avoid having to take huge values, you might want to normalize the distances (resp scalar product) for example by normalizing by the norm of the matrix). You should then have an adjacency matrix $\\mathbf{A}$ with $0$ on the diagonal and such that $A_{ij} = 1$ if the two images are connected and $A_{ij} = \\inf$ or some large number if they are not.\n",
    "\n",
    "\n",
    "__2.__ Let us denote the updated adjacency matrix as $\\tilde{\\mathbf{A}}$. From this matrix, we will now compute the shortest geodesic distance. That can be done through the Floyd-Warshall algorithm as indicated below.\n"
   ]
  },
  {
   "cell_type": "code",
   "execution_count": 278,
   "metadata": {},
   "outputs": [
    {
     "name": "stdout",
     "output_type": "stream",
     "text": [
      "[  0.   5.   9.   9.   8.   8.   8.   6.   8.   7.   7.   7.  11. 999.\n",
      "   7.   9.   5.   7.   8.   9.   7.   7.   7.   6.   8.  10.   1.   5.\n",
      "   1.   5.   4.   5.   4.   4.   4.   4.   3.   4.   2.   5.  12.   3.\n",
      "   6.   3.   4.   3.   4.   2.   2.   1. 999. 999. 999. 999. 999. 999.\n",
      " 999. 999. 999. 999. 999. 999. 999. 999. 999. 999.   5.   7.   6. 999.\n",
      "   6.   6.   5.   4.   6.   6.   6.   6.   5.   5.   2.   3.   4.   5.\n",
      "   6.  11.  10.   5.   2.   4.   6.   7.   3.   5.   3.   4.   2.   6.\n",
      "   4.   6.   5.   4.   5.   3.   6.   3.   3.   4.   5.   6.   6.   6.\n",
      "   5.   2.   2. 999.   3. 999.   5.   7.   4.  10.   5.   6.  10.   6.\n",
      "   6.   6.   5.   6.   7. 999.   5.   4.   4.   6.   7.   6.   5.   3.\n",
      "   6. 999.   6.   4.   2.   2.   2.   4.   3.   3.   3.   3.   1.   3.\n",
      "   5.   4.   1.   7.  11.   7.  10.   9.  10.  11.   9.   7.   7. 999.\n",
      "   6.   6.   6.   8.   8.  10.   9.  10. 999.   9.   9.   6. 999.   7.\n",
      "   8. 999. 999. 999. 999. 999. 999. 999. 999. 999. 999. 999. 999. 999.\n",
      " 999. 999. 999. 999. 999. 999. 999. 999. 999. 999. 999. 999. 999. 999.\n",
      " 999. 999. 999. 999. 999. 999. 999. 999. 999. 999. 999. 999. 999. 999.\n",
      " 999. 999. 999. 999. 999. 999. 999. 999. 999. 999. 999. 999. 999. 999.\n",
      " 999. 999. 999. 999. 999. 999. 999. 999. 999. 999. 999. 999. 999. 999.\n",
      " 999. 999. 999. 999. 999. 999. 999. 999. 999. 999. 999. 999. 999. 999.\n",
      " 999. 999. 999. 999. 999. 999. 999. 999. 999. 999. 999. 999. 999. 999.\n",
      " 999. 999. 999. 999. 999. 999. 999. 999. 999. 999. 999. 999. 999. 999.\n",
      " 999. 999. 999. 999. 999. 999. 999. 999. 999. 999. 999. 999. 999. 999.\n",
      " 999. 999. 999. 999. 999. 999. 999. 999. 999. 999. 999. 999. 999. 999.\n",
      " 999. 999. 999. 999. 999. 999. 999. 999. 999. 999. 999. 999. 999. 999.\n",
      " 999. 999. 999. 999. 999. 999. 999. 999. 999. 999. 999. 999. 999. 999.\n",
      " 999. 999. 999. 999. 999. 999. 999. 999. 999. 999. 999. 999. 999. 999.]\n"
     ]
    }
   ],
   "source": [
    "\n",
    "from copy import copy, deepcopy\n",
    "# code the Floyd Warshall algorithm as follows\n",
    "# for k = 1 to n\n",
    "#     for i =1 to n\n",
    "#         for j = 1 to n\n",
    "#             \\tilde{A}_{ij}\\leftarrow \\min(A_{ij}, A_{ik + A_{kj}})\n",
    "\n",
    "V = A.shape[0]\n",
    "def floydWarshall(A): \n",
    "    #size of dist?\n",
    "    dist = deepcopy(A)\n",
    "    for k in range(V):\n",
    "        for i in range(V):\n",
    "            for j in range(V):\n",
    "                dist[i][j] = min(dist[i][j], dist[i][k]+ dist[k][j])\n",
    "    return dist \n",
    "\n",
    "tilde = floydWarshall(A)\n",
    "print(tilde[0])"
   ]
  },
  {
   "cell_type": "markdown",
   "metadata": {},
   "source": [
    "#### Question II.1.3 Low dimensional projection (2pts)\n",
    "\n",
    "To conclude, from the matrix of geodesic distances, compute the low dimensional representation. Do this by\n",
    "\n",
    "1. First getting the singular value decomposition of the geodesic distance matrix as $\\mathbf{S}_\\mathcal{G} = \\mathbf{U}\\mathbf{\\Lambda}\\mathbf{U}^T$. Define the projection as $\\mathbf{I_{P\\times N}}\\mathbf{\\Lambda}^{1/2}\\mathbf{U}^T$ with $P=2$ (that is retain the first two rows of the matrix $\\mathbf{\\Lambda}^{1/2}\\mathbf{U}^T$).\n",
    "\n",
    "2. Represent each image $\\mathbf{x}_i$ from the $2$ tuple encoded in the $i^{th}$ column of $\\mathbf{I}_{2\\times N}\\mathbf{\\Lambda}^{1/2}\\mathbf{U}^T$. Display the result below.\n"
   ]
  },
  {
   "cell_type": "code",
   "execution_count": 280,
   "metadata": {},
   "outputs": [],
   "source": [
    "import numpy as np\n",
    "from numpy import linalg\n",
    "from sklearn.manifold import MDS\n",
    "import matplotlib.pyplot as plt\n",
    "\n",
    "i, j = linalg.eig(tilde)\n",
    "\n",
    "x = np.dot(np.identity(364), np.dot(np.sqrt(j), double_centering(tilde).T))[0].real\n",
    "y = np.dot(np.identity(364), np.dot(np.sqrt(j), double_centering(tilde).T))[1].real\n",
    "XY_mat = []\n",
    "\n",
    "for i in range(x.shape[0]):\n",
    "    c = np.array([x[i], y[i]])\n",
    "    XY_mat.append(c)\n",
    "    \n",
    "XY_mat = np.asarray(XY_mat)"
   ]
  },
  {
   "cell_type": "code",
   "execution_count": 282,
   "metadata": {},
   "outputs": [
    {
     "data": {
      "text/plain": [
       "<matplotlib.collections.PathCollection at 0x1281450d0>"
      ]
     },
     "execution_count": 282,
     "metadata": {},
     "output_type": "execute_result"
    },
    {
     "data": {
      "image/png": "[encoded data removed]",
      "text/plain": [
       "<Figure size 432x288 with 1 Axes>"
      ]
     },
     "metadata": {
      "needs_background": "light"
     },
     "output_type": "display_data"
    }
   ],
   "source": [
    "plt.scatter(XY_mat[:183, 0], XY_mat[:183, 1], s = 10)\n",
    "plt.scatter(XY_mat[183:, 0], XY_mat[183:, 1], s = 10)"
   ]
  },
  {
   "cell_type": "markdown",
   "metadata": {},
   "source": [
    "### Exercise II.2. (K-means)"
   ]
  },
  {
   "cell_type": "markdown",
   "metadata": {},
   "source": [
    "#### Question II.2.1 (8pts)\n",
    "\n",
    "Now that we have a two dimensional representation for the images. We will use a clustering algorithm to learn how to distinguish between the two digits. \n",
    "\n",
    "\n",
    "__1.__ Start by splitting the dataset into a training and a validation set (let us take $90\\%$ training and $10\\%$ validation). \n",
    "\n",
    "__2.__ Initialize the $K$-means algorithm with $2$ centroids located at random positions\n",
    "\n",
    "__3.__ Assign each point to its nearest centroid as \n",
    "\n",
    "$$\\mathcal{C}(\\mathbf{x}_i) \\leftarrow \\underset{k}{\\operatorname{argmin}}  \\|\\mathbf{x}_i - \\mathbf{c}_{k}\\|^2$$\n",
    "\n",
    "__4.__ Update the centroids as \n",
    "\n",
    "$$\\mathbf{c}_k \\leftarrow \\frac{1}{N_k}\\sum_{\\ell\\in \\mathcal{C}_k}\\mathbf{x}_\\ell,\\quad k=1,2.$$\n",
    "\n",
    "__5.__ Make sure to properly treat empty clusters. If you end up with an empty cluster, restart the iterations by splitting the single cluter you have into two sub-clusters and define your new centroids as the centers of mass of those clusters. \n"
   ]
  },
  {
   "cell_type": "code",
   "execution_count": 283,
   "metadata": {},
   "outputs": [
    {
     "name": "stdout",
     "output_type": "stream",
     "text": [
      "[[-2489.91774774 -3268.70739489]\n",
      " [ 2411.140005    3180.09842985]]\n",
      "[0 0 0 1 0 1 1 0 1 1 0 1 1 1 1 1 1 1 0 0 1 1 0 0 1 1 1 0 0 0 0 0 1 1 0 1 0\n",
      " 1 0 1 1 0 1 0 1 0 1 0 0 0 1 1 0 0 0 1 1 0 1 1 0 1 0 1 1 0 0 0 1 0 1 1 1 0\n",
      " 1 0 0 1 0 0 0 0 1 1 0 1 0 0 0 0 0 0 1 0 1 1 0 0 0 0 1 1 0 1 0 1 1 0 1 1 1\n",
      " 1 1 1 1 1 0 1 1 1 1 0 0 1 1 1 0 0 1 1 1 0 0 1 0 1 1 0 0 1 1 0 0 0 0 0 0 0\n",
      " 0 1 1 1 1 0 1 1 1 0 0 0 1 1 0 1 0 0 0 0 1 1 1 1 1 0 1 0 0 1 1 0 1 0 1 0 0\n",
      " 1 1 0 0 1 1 0 0 0 0 1 1 0 1 1 1 0 0 0 0 1 0 1 1 0 0 1 0 1 1 0 0 1 1 1 0 0\n",
      " 1 1 0 0 1 0 1 0 1 0 1 0 1 0 1 1 0 0 1 1 0 1 1 0 1 0 1 0 0 0 1 1 1 0 1 1 0\n",
      " 0 0 0 0 0 1 1 1 1 1 1 1 0 0 1 0 1 1 0 0 1 0 1 0 0 0 1 0 0 0 1 1 0 0 0 0 0\n",
      " 0 1 0 1 1 1 1 0 0 1 0 1 1 0 0 1 0 0 0 0 0 1 0 0 0 1 1 1 0 1 1 1]\n"
     ]
    },
    {
     "data": {
      "image/png": "[encoded data removed]",
      "text/plain": [
       "<Figure size 432x288 with 1 Axes>"
      ]
     },
     "metadata": {
      "needs_background": "light"
     },
     "output_type": "display_data"
    }
   ],
   "source": [
    "import numpy as np\n",
    "from sklearn.metrics import pairwise_distances_argmin\n",
    "\n",
    "np.random.shuffle(XY_mat)\n",
    "split = round(0.9 * XY_mat.shape[0])\n",
    "\n",
    "t = deepcopy(XY_mat[:split])\n",
    "num_t = deepcopy(XY_mat[:split]).shape[0]\n",
    "num_v = deepcopy(XY_mat[:split]).shape[1]\n",
    "c_old = np.zeros((np.random.randn(2, num_v) * np.std(t, axis = 0) + np.mean(t, axis = 0)).shape)\n",
    "c_new = deepcopy(np.random.randn(2, num_v) * np.std(t, axis = 0) + np.mean(t, axis = 0))\n",
    "d = np.zeros((num_t, 2))\n",
    "c = np.zeros((num_t))\n",
    "e = np.linalg.norm(c_new - c_old)\n",
    "while e != 0:\n",
    "    for i in range(2):\n",
    "        d[:,i] = np.linalg.norm(t - c_new[i], axis = 1)\n",
    "    c = np.argmin(d, axis = 1)\n",
    "    c_old = deepcopy(c_new)\n",
    "    for i in range(2):\n",
    "        c_new[i] = np.mean(t[c==i], axis=0)\n",
    "    e = np.linalg.norm(c_new - c_old)\n",
    "print(c_new)\n",
    "labels = pairwise_distances_argmin(t, c_new)\n",
    "print(labels)\n",
    "\n",
    "plt.scatter(t[:,0], t[:,1], c = labels, s = 10)\n",
    "plt.scatter(c_new[:,0], c_new[:,1], s = 100)\n",
    "\n",
    "validation = deepcopy(XY_mat[split:])\n",
    "validation_labels = pairwise_distances_argmin(validation, c_new)\n"
   ]
  },
  {
   "cell_type": "code",
   "execution_count": 284,
   "metadata": {},
   "outputs": [
    {
     "data": {
      "text/plain": [
       "<matplotlib.collections.PathCollection at 0x128b6a190>"
      ]
     },
     "execution_count": 284,
     "metadata": {},
     "output_type": "execute_result"
    },
    {
     "data": {
      "image/png": "[encoded data removed]",
      "text/plain": [
       "<Figure size 432x288 with 1 Axes>"
      ]
     },
     "metadata": {
      "needs_background": "light"
     },
     "output_type": "display_data"
    }
   ],
   "source": [
    "#validation\n",
    "plt.scatter(validation[:,0],validation[:,1], c=validation_labels, s = 10)\n"
   ]
  },
  {
   "cell_type": "markdown",
   "metadata": {
    "collapsed": true
   },
   "source": [
    "### Part III. Reinforcement learning (10pts)"
   ]
  },
  {
   "cell_type": "markdown",
   "metadata": {
    "collapsed": true
   },
   "source": [
    "In this last exercise, we will tackle a simple reinforcement learning problem. Consider the map given below. There are 5 rooms + the garden. We would like to train an agent to get out of the house as quickly as possible. To set up the evironment, we will consider 6 possible state (the rooms in which the agent is located) and 6 possible actions (moving from one room to any other room). \n",
    "\n",
    "The Q-table can thus be encoded by a $6$ by $6$ matrix. We will consider three types of rewards. Impossible moves (example 1 to 4) will be penalized by $1$. possible moves will be associated to a $0$ reward. Finally any move leading to an escape (e.g. 2 to 6) will be rewarded by 100. \n"
   ]
  },
  {
   "cell_type": "markdown",
   "metadata": {},
   "source": [
    "\n",
    "Map\n",
    "<img src=\"QLearningImage2.png\" width=\"700\" height=\"600\">"
   ]
  },
  {
   "cell_type": "markdown",
   "metadata": {},
   "source": [
    "#### Question III.1 (5pts)\n",
    "\n",
    "As a first approach, we will just run a couple of pure exploration iterations"
   ]
  },
  {
   "cell_type": "code",
   "execution_count": 286,
   "metadata": {},
   "outputs": [
    {
     "name": "stdout",
     "output_type": "stream",
     "text": [
      "[[0. 0. 0. 0. 0. 0.]\n",
      " [0. 0. 0. 0. 0. 0.]\n",
      " [0. 0. 0. 0. 0. 0.]\n",
      " [0. 0. 0. 0. 0. 0.]\n",
      " [0. 0. 0. 0. 0. 0.]\n",
      " [0. 0. 0. 0. 0. 0.]]\n",
      "[[-100.    0. -100. -100. -100. -100.]\n",
      " [   0. -100. -100.    0. -100.  100.]\n",
      " [-100. -100. -100. -100. -100.  100.]\n",
      " [-100.    0. -100. -100.    0. -100.]\n",
      " [-100. -100. -100.    0. -100. -100.]\n",
      " [-100. -100.    0. -100. -100.  100.]]\n",
      "taking action: 0 in state: 5\n",
      "rewards: -100.0\n",
      "taking action: 5 in state: 0\n",
      "rewards: -100.0\n",
      "taking action: 5 in state: 5\n",
      "rewards: 100.0\n"
     ]
    }
   ],
   "source": [
    "import random\n",
    "done = False \n",
    "\n",
    "moves = [[0,1], [1,0], [1,3], [3,1], [3,4], [4,3], [5,2]]\n",
    "exits = [[1,5], [2,5], [5,5]]\n",
    "\n",
    "Q_table = np.zeros((6,6))\n",
    "states, actions = 6, 6\n",
    "rewards = -100 * np.matrix(np.ones(shape = [states, actions]))\n",
    "print(Q_table)\n",
    "\n",
    "for s in range(states):\n",
    "    for a in range(actions):\n",
    "        if [s,a] in exits:\n",
    "            rewards[s,a] = 100\n",
    "        elif[s,a] in moves:\n",
    "            rewards[s,a] = 0\n",
    "    \n",
    "print(rewards)\n",
    "\n",
    "'''complete the lines below by sampling an action at random and updating the state of the environement\n",
    "until the variable Done is not set to True. Set this variable to True when the agent is able to escape the house'''\n",
    "    \n",
    "while not done:\n",
    "    a = random.randint(0,5)\n",
    "    print(\"taking action:\", a, \"in state:\", s)\n",
    "    \n",
    "    if rewards[s,a] == 100:\n",
    "        done = True\n",
    "    \n",
    "    print(\"rewards:\", rewards[s,a])\n",
    "    s = a\n",
    "    \n",
    "    \n",
    "    \n",
    "    "
   ]
  },
  {
   "cell_type": "markdown",
   "metadata": {},
   "source": [
    "#### Question III.2 (5pts)\n",
    "\n",
    "Now that you can expore, we will start to exploit and we will do that through the use of a $Q$ table. In this case, as indicated in the statement of the exercise, the Q-table is 6x6. Train the agent by alternating between exploitation and exploration. \n",
    "\n",
    "Since we want to update the $Q$-table, we will now add a line of the form \n",
    "\n",
    "$$Q[s, a] \\leftarrow (1-\\alpha)Q[s,a] + \\alpha\\left(R[a] + \\gamma\\max_{a'}Q[s',a']\\right)$$\n",
    "\n",
    "When in the exploration framework, we will sample the action at random as in Question III.1. When in the exploitation framework however, we will simply choose the action as the one that maximizes the entry in the $Q$-table for the particular state at which we are. Hence we have $a^* = \\underset{a}{\\operatorname{argmax}} Q[s,a]$. \n",
    "\n",
    "\n",
    "Code this epsilon-greedy approach below. You can start $\\epsilon =0.8$ \n",
    "Take a sufficiently small learning rate (you can for example start with 0.5) and a relatively large discount factor $\\gamma=0.9$ (You can later change those values to see how they affec the learning)\n",
    "\n",
    "Once you are done with the algorithm, try a couple of different values for $\\epsilon$ and describe the evolution in the learning. "
   ]
  },
  {
   "cell_type": "code",
   "execution_count": 287,
   "metadata": {},
   "outputs": [
    {
     "name": "stdout",
     "output_type": "stream",
     "text": [
      "Q table:  [[0.07003419 0.08985402 0.07893542 0.06995773 0.06184263 0.07858487]\n",
      " [0.08052244 0.07898679 0.07903232 0.08077081 0.0616752  0.1       ]\n",
      " [0.0700628  0.07926799 0.07893692 0.07001071 0.06203516 0.09963852]\n",
      " [0.07006677 0.08992267 0.07898852 0.06951499 0.07246078 0.07866412]\n",
      " [0.06983953 0.07911695 0.07856566 0.08086046 0.06170259 0.0786931 ]\n",
      " [0.06945832 0.07825493 0.08636663 0.06837646 0.06044909 0.09931829]]\n",
      "done at 1 with action 5\n",
      "done at 1 with action 5\n",
      "done at 2 with action 5\n",
      "done at 1 with action 5\n",
      "done at 1 with action 5\n",
      "done at 5 with action 5\n"
     ]
    }
   ],
   "source": [
    "done = False \n",
    "\n",
    "epsilon = 0.8\n",
    "gamma = 0.9\n",
    "alpha = 0.5\n",
    "NumEpisodes = 1000\n",
    "Q_table = np.zeros((6,6)) #reset\n",
    "for episode in range(NumEpisodes):\n",
    "    s = random.randint(0,5)\n",
    "    done =False \n",
    "    while not done: \n",
    "        if random.uniform(0,1) >= epsilon:\n",
    "            a = np.argmax(Q_table[s,:])\n",
    "        else:\n",
    "            a = random.randint(0,5)\n",
    "        new_s = a\n",
    "        \n",
    "        update = (1-alpha) * Q_table[s,a]\n",
    "        g_update = gamma * np.max(Q_table[new_s, :])\n",
    "        a_update = alpha * (rewards[s,a] + g_update)\n",
    "        Q_table[s,a] = update + a_update\n",
    "        s = new_s\n",
    "        if new_s == 5:\n",
    "            done = True\n",
    "q_update = (Q_table / (np.max(Q_table) * 10))\n",
    "print(\"Q table: \", q_update)\n",
    "\n",
    "'''Draw a number at random from the uniform distribution between 0 and 1''' \n",
    "    \n",
    "    \n",
    "'''If the number is less then epsilon, explore if it is larger, exploit\n",
    "if randomDraw < epsilon:'''\n",
    "\n",
    "for s in range (6):\n",
    "    done = False\n",
    "    while not done:\n",
    "        a = np.argmax(Q_table[s,:])\n",
    "        new_s = a\n",
    "        if new_s == 5:\n",
    "            print(\"done at\", s, \"with action\", a)\n",
    "            done = True\n",
    "        s = new_s\n"
   ]
  },
  {
   "cell_type": "code",
   "execution_count": null,
   "metadata": {},
   "outputs": [],
   "source": []
  },
  {
   "cell_type": "code",
   "execution_count": null,
   "metadata": {},
   "outputs": [],
   "source": []
  },
  {
   "cell_type": "code",
   "execution_count": null,
   "metadata": {},
   "outputs": [],
   "source": []
  }
 ],
 "metadata": {
  "kernelspec": {
   "display_name": "Python 3",
   "language": "python",
   "name": "python3"
  },
  "language_info": {
   "codemirror_mode": {
    "name": "ipython",
    "version": 3
   },
   "file_extension": ".py",
   "mimetype": "text/x-python",
   "name": "python",
   "nbconvert_exporter": "python",
   "pygments_lexer": "ipython3",
   "version": "3.7.4"
  }
 },
 "nbformat": 4,
 "nbformat_minor": 2
}
