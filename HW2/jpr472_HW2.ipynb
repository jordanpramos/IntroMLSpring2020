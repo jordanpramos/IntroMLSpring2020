{
 "cells": [
  {
   "cell_type": "markdown",
   "metadata": {},
   "source": [
    "## Homework II: Logistic Regression, SVM and some computational drug design\n",
    "\n",
    "__Given date:__ Saturday March 7 \n",
    "\n",
    "__Due date:__ Friday March 20\n",
    "\n",
    "__Total__ : 30 pts + Bonus (One of the bonus question is on 3pts. For the other, it depends on what you can do)"
   ]
  },
  {
   "cell_type": "markdown",
   "metadata": {},
   "source": [
    "<img src=\"computationalDrugDiscovery.png\" width=\"400\">"
   ]
  },
  {
   "cell_type": "markdown",
   "metadata": {},
   "source": [
    "### Exercise I.1. Logistic regression (10pts)\n",
    "\n",
    "Use the lines below to load the variables __HW2_ExI_X__ and __HW2_ExI_Y__. In this first exercise, you will learn a logistic regression classifier on this dataset. Recall that the logistig regression model takes the form\n",
    "\n",
    "$$p(t=1|\\mathbf{x}) = \\sigma(\\mathbf{\\beta}^T\\tilde{\\mathbf{x}})$$\n",
    "\n",
    "where $\\tilde{\\mathbf{x}} = [1, \\mathbf{x}] = [1, x_1, x_2, \\ldots, x_D]$. Consequently, we thus have \n",
    "\n",
    "$$p(t = 0|\\mathbf{x}) = 1 - \\sigma(\\mathbf{\\beta}^T\\tilde{\\mathbf{x}})$$\n",
    "\n",
    "we can then write the total probability that a point $\\mathbf{x}$ will be from class $c = \\left\\{0,1\\right\\}$ as \n",
    "\n",
    "$$p(t = c|\\mathbf{x}) = p(t = 1|\\mathbf{x})^{c} p(t = 0|\\mathbf{x})^{1-c} $$\n",
    "\n",
    "or equivalently\n",
    "\n",
    "$$p(t = c|\\mathbf{x}) = (\\sigma(\\mathbf{\\beta}^T\\tilde{\\mathbf{x}}))^{c} (1-\\sigma(\\mathbf{\\beta}^T\\tilde{\\mathbf{x}}))^{1-c}  = p^c (1-p)^{1-c}$$\n",
    "\n",
    "which is a binomial distribution with probability of success $\\sigma(\\mathbf{\\beta}^T\\tilde{\\mathbf{x}})$. If we assume that all the samples are independent, the probability of observing the dataset can read as the product\n",
    "\n",
    "$$p(\\left\\{\\mathbf{x}_i, t_i\\right\\}) = \\prod_{i=1}^N p(t = t(\\mathbf{x}_i)|\\mathbf{x}_i)\\quad  (*)$$\n",
    "\n",
    "We can then try to learn the parameters $\\mathbf{\\beta}$ that maximize this probability (i.e such that the probability $p(t = t_i |\\mathbf{x}_i)$ is high for every sample pair in the dataset. To do this, we take the negative logarithm of $(*)$ which gives \n",
    "\n",
    "$$-\\log \\prod_{i=1}^N p(t = t(\\mathbf{x}_i)|\\mathbf{x}_i) = -\\sum_{i=1}^N c_i \\log(\\sigma(\\mathbf{\\beta}^T\\tilde{\\mathbf{x}}_i)) - \\sum_{i=1}^N (1-c_i)\\log(1-\\sigma(\\mathbf{\\beta}^T\\tilde{\\mathbf{x}_i}))\\quad  (**)$$\n",
    "\n",
    "and find the $\\mathbf{\\beta}$ that minimizes this expression."
   ]
  },
  {
   "cell_type": "code",
   "execution_count": 66,
   "metadata": {},
   "outputs": [
    {
     "data": {
      "image/png": "[encoded data removed]",
      "text/plain": [
       "<Figure size 432x288 with 1 Axes>"
      ]
     },
     "metadata": {
      "needs_background": "light"
     },
     "output_type": "display_data"
    }
   ],
   "source": [
    "from sklearn.datasets import make_blobs\n",
    "from matplotlib.colors import ListedColormap\n",
    "import matplotlib.pyplot as plt\n",
    "import numpy as np\n",
    "\n",
    "\n",
    "X1 = np.load('Ex1_HW2_X.npy') \n",
    "Y1 = np.load('Ex1_HW2_t.npy') \n",
    "\n",
    "X_class1 = X1[Y1==0,:]\n",
    "X_class2 = X1[Y1==1,:]\n",
    "\n",
    "plt.scatter(X_class1[:, 0], X_class1[:, 1], marker='o', c='r',\n",
    "            s=35)\n",
    "plt.scatter(X_class2[:, 0], X_class2[:, 1], marker='o', c='b',\n",
    "            s=35)\n",
    "\n",
    "beta = LogisticRegression_scratch(X1,Y1)\n",
    "\n",
    "x_mat, y_mat = np.meshgrid(np.linspace(-15,5,100), np.linspace(-15,15,100))\n",
    "\n",
    "tup1 = np.ones((len(x_mat.flatten()),1))\n",
    "tup2 = np.vstack((x_mat.flatten(), y_mat.flatten())).T\n",
    "\n",
    "mesh = np.hstack((tup1, tup2))\n",
    "\n",
    "pred = np.dot(beta.T, mesh.T)\n",
    "pred[pred < 0.5] = 0\n",
    "pred[pred >= 0.5] = 1\n",
    "\n",
    "plt.contourf(np.reshape(x_mat, (100,100)), np.reshape(y_mat, (100,100)),\n",
    "            np.reshape(-pred, (100,100)), alpha = 0.1, \n",
    "             cmap = ListedColormap(('blue', 'red')))\n",
    "\n",
    "plt.show()\n"
   ]
  },
  {
   "cell_type": "markdown",
   "metadata": {
    "collapsed": true
   },
   "source": [
    "__Question I.1.1 Logistic from scratch (7pts)__ Write a function that takes as inputs a set of training pairs $\\left\\{\\mathbf{x}_i, t_i\\right\\}$ such as those stored in the variables $\\texttt{HW2_ExI_X}$ and $\\texttt{HW2_ExI_Y}$, and return the logistic regression classifier by learning it through gradient descent from the minimization of the negative log likelihood function $(**)$. Apply your function to the dataset given above and plot the discriminant function on top of this dataset.\n"
   ]
  },
  {
   "cell_type": "code",
   "execution_count": 67,
   "metadata": {},
   "outputs": [],
   "source": [
    "# start by coding the sigmoid function. \n",
    "\n",
    "\n",
    "def sigmoid(x):\n",
    "    \n",
    "    '''The function should return sigma(x) = 1/(1+e^-x) at the point x'''\n",
    "    \n",
    "    return np.true_divide(1.0, (1 + np.exp(-x)))\n",
    "    \n",
    "\n",
    "def LogisticRegression_scratch(X, y):\n",
    "    \n",
    "    '''The function should learn a logistic classifier '''\n",
    "    \n",
    "    learning_rate = 0.001\n",
    "    eta = 0.0001\n",
    "    beta = np.random.normal(0, 0.05, (3,1))\n",
    "    \n",
    "    X = np.column_stack([np.ones(len(X)), X])\n",
    "    y = np.asarray([y], dtype = np.float32)\n",
    "    \n",
    "    for i in range(1000):\n",
    "        pred = sigmoid(np.dot(X, beta))\n",
    "        \n",
    "        error_1 = -1 * y * np.log(sigmoid(np.dot(X, beta)))\n",
    "        error_2 = (1 - y) * np.log(1 - sigmoid(np.dot(X, beta)))\n",
    "        \n",
    "        loss = (error_1 - error_2).mean()\n",
    "        beta -= eta*(X.T.dot(pred - y.T) / len(X))\n",
    "    \n",
    "    return beta\n",
    "    "
   ]
  },
  {
   "cell_type": "markdown",
   "metadata": {
    "collapsed": true
   },
   "source": [
    "__Question I.1.2 Logistic vs OLS (3pts)__ Consider the dataset given below. On this dataset, __using the corresponding modules from scikit__, learn a linear regression classifier. Then learn a logistic classifier. How do the two approaches compare with each other? Display each each of the classifiers using 'meshgrid + contourf'"
   ]
  },
  {
   "cell_type": "code",
   "execution_count": 68,
   "metadata": {},
   "outputs": [
    {
     "data": {
      "image/png": "[encoded data removed]",
      "text/plain": [
       "<Figure size 432x288 with 1 Axes>"
      ]
     },
     "metadata": {
      "needs_background": "light"
     },
     "output_type": "display_data"
    }
   ],
   "source": [
    "import matplotlib.pyplot as plt\n",
    "import numpy as np\n",
    "import scipy.io as sio\n",
    "from sklearn.linear_model import LogisticRegression\n",
    "from sklearn.datasets import make_classification\n",
    "\n",
    "data_class1 = sio.loadmat('XHW2_EX2_Class1.mat')['XHW2_EX2_Class1']\n",
    "data_class2 = sio.loadmat('XHW2_EX2_Class2.mat')['XHW2_EX2_Class2']\n",
    "\n",
    "X = np.concatenate((data_class1, data_class2))\n",
    "y = np.concatenate((np.ones(data_class1.shape[0]), np.zeros(data_class2.shape[0])))\n",
    "\n",
    "x_min = X[:,0].min() - .5\n",
    "x_max = X[:,0].max() + .5\n",
    "y_min = X[:,1].min() - .5\n",
    "y_max = X[:,1].max() + .5\n",
    "\n",
    "x_mat, y_mat = np.meshgrid(np.arange(x_min, x_max, 0.02), np.arange(y_min, y_max, 0.02))\n",
    "\n",
    "logistic_regression = LogisticRegression(solver = 'lbfgs').fit(X,y)\n",
    "\n",
    "z = (logistic_regression.predict(np.c_[x_mat.ravel(), y_mat.ravel()])).reshape(x_mat.shape)\n",
    "\n",
    "plt.contourf(x_mat, y_mat, z, alpha = 0.1, \n",
    "             cmap = ListedColormap(('blue','red')))\n",
    "plt.scatter(data_class1[:, 0], data_class1[:, 1], marker='o', c='r',\n",
    "            s=35)\n",
    "plt.scatter(data_class2[:, 0], data_class2[:, 1], marker='o', c='b',\n",
    "            s=35)\n",
    "\n",
    "plt.show()"
   ]
  },
  {
   "cell_type": "code",
   "execution_count": 69,
   "metadata": {},
   "outputs": [
    {
     "data": {
      "image/png": "[encoded data removed]",
      "text/plain": [
       "<Figure size 432x288 with 1 Axes>"
      ]
     },
     "metadata": {
      "needs_background": "light"
     },
     "output_type": "display_data"
    }
   ],
   "source": [
    "from sklearn.linear_model import LinearRegression\n",
    "\n",
    "data_class1 = sio.loadmat('XHW2_EX2_Class1.mat')['XHW2_EX2_Class1']\n",
    "data_class2 = sio.loadmat('XHW2_EX2_Class2.mat')['XHW2_EX2_Class2']\n",
    "\n",
    "X = np.concatenate((data_class1, data_class2))\n",
    "y = np.concatenate((np.ones(data_class1.shape[0]), np.zeros(data_class2.shape[0])))\n",
    "\n",
    "x_min = X[:,0].min() - .5\n",
    "x_max = X[:,0].max() + .5\n",
    "y_min = X[:,1].min() - .5\n",
    "y_max = X[:,1].max() + .5\n",
    "\n",
    "x_mat, y_mat = np.meshgrid(np.arange(x_min, x_max, 0.02), np.arange(y_min, y_max, 0.02))\n",
    "\n",
    "linear_regression = LinearRegression().fit(X,y)\n",
    "\n",
    "z = (linear_regression.predict(np.c_[x_mat.ravel(), y_mat.ravel()])).reshape(x_mat.shape)\n",
    "\n",
    "plt.contourf(x_mat, y_mat, z, alpha = 0.1, \n",
    "             cmap = ListedColormap(('blue','red')))\n",
    "plt.scatter(data_class1[:, 0], data_class1[:, 1], marker='o', c='r',\n",
    "            s=35)\n",
    "plt.scatter(data_class2[:, 0], data_class2[:, 1], marker='o', c='b',\n",
    "            s=35)\n",
    "\n",
    "plt.show()"
   ]
  },
  {
   "cell_type": "markdown",
   "metadata": {},
   "source": [
    "### Exercise II: Maximal Margin classifier and non linearly separable data (10pts)"
   ]
  },
  {
   "cell_type": "markdown",
   "metadata": {
    "collapsed": true
   },
   "source": [
    "So far we have studided Maximal Margin classifier when the data was linearly separable. In this case, the plane will naturally position itself in between the two classes. The formulation in the linearly separable case is of the form\n",
    "\n",
    "$$\\max_{\\mathbf{w}, b_0}\\min_{i} \\frac{y(\\mathbf{x}^{(i)})t^{(i)}}{\\|\\mathbf{w}\\|} = \\max_{\\mathbf{w}, b_0}\\min_i \\frac{(\\mathbf{w}^T\\mathbf{x}^{(i)} + b_0)t^{(i)}}{\\|\\mathbf{w}\\|}$$\n",
    "\n",
    "This formulation is not very nice because the optimization variable appears at the denominator. Note that the formulation $(*)$ can be written as \n",
    "\n",
    "\\begin{align}\n",
    "\\max_{\\gamma, \\mathbf{w}, b_0} & \\quad \\frac{\\gamma}{\\|\\mathbf{w}\\|} \\\\\n",
    "\\text{subject to} &\\quad  t^{(i)}(\\mathbf{w}^T\\mathbf{x}^{(i)} + b_0) \\geq \\gamma \n",
    "\\end{align}\n",
    "\n",
    "Here we simply introduce the parameter $\\gamma$ to represent the margin (smallest distance between any point from the dataset and the plane). An important thing to notice when looking at $(**)$ is that any solution for $\\mathbf{w}, b_0, \\gamma$ can generate an other solution with the same objective by simply scaling it with a positive weight $\\alpha$. Indeed if $\\mathbf{w},b_0, \\gamma$ is an optimal solution to $(**)$, it is easy to check that $\\alpha \\mathbf{w}, \\alpha \\gamma, \\alpha b_0$ will be a valid solution as well. Since we only need one solution, we can choose to optimize over the set of solution such that $\\gamma = 1$. Concretely this means that for each 'line' of solution $(\\alpha \\gamma, \\alpha b_0, \\alpha \\mathbf{w})$, we only retain the $\\alpha$ corresponding to $\\alpha\\gamma = 1$. The problem then becomes\n",
    "\n",
    "\\begin{align}\n",
    "\\max_{\\mathbf{w}, b_0} & \\quad \\frac{1}{\\|\\mathbf{w}\\|} \\\\\n",
    "\\text{subject to} &\\quad  t^{(i)}(\\mathbf{w}^T\\mathbf{x}^{(i)} + b_0) \\geq 1.\n",
    "\\end{align}\n",
    "\n",
    "To get the final formulation, note that the maximum value for $1/\\|\\mathbf{w}\\|$ is achieved when $\\|\\mathbf{w}\\|$ is the smallest. We an thus solve the problem\n",
    "\n",
    "\\begin{align}\n",
    "\\min_{\\mathbf{w}, b_0} &\\quad  \\|\\mathbf{w}\\| \\\\\n",
    "\\text{subject to} &\\quad  t^{(i)}(\\mathbf{w}^T\\mathbf{x}^{(i)} + b_0) \\geq 1., \\quad\\quad (***) \n",
    "\\end{align}\n",
    "\n"
   ]
  },
  {
   "cell_type": "markdown",
   "metadata": {},
   "source": [
    "So far we have assumed that the dataset was linearly separable. In this case, all the points will satisfy $t^{(i)}(\\mathbf{w}^T\\mathbf{x}^{(i)} + b_0)\\geq 1$. Sometimes, however, we could be in a situation where the dataset is not linearly separable and there are points which will be misclassified so that $t^{(i)}(\\mathbf{w}^T\\mathbf{x}^{(i)} + b_0)$ might be negative. To account for such situation, we will consider slack variables $\\xi_i$ and use a more general formulation of the form\n",
    "\n",
    "\\begin{align}\n",
    "\\min_{\\mathbf{w}, b_0} &\\quad  \\|\\mathbf{w}\\| + C\\sum_{i} \\xi_i \\\\\n",
    "\\text{subject to} &\\quad  t^{(i)}(\\mathbf{w}^T\\mathbf{x}^{(i)} + b_0) \\geq 1 - \\xi_i., \\quad\\quad (***) \n",
    "\\end{align}\n",
    "\n",
    "It is in fact possible to write formulation $(***)$ as an unconstrained optimization problem. Recall that we decided to set the minimum margin to $1$. This in particular means that all the points that are correctly classified should satisfy $t^{(i)}(\\mathbf{w}^T\\mathbf{x}^{(i)} + b_0)\\geq 1$. The approach encoded in $(***)$ corresponds to penalazing those points for which $t^{(i)}(\\mathbf{w}^T\\mathbf{x}^{(i)} + b_0)<1$. As soon as we have a positive value for one of the variables \n",
    "\n",
    "\n",
    "#### Question II.1 Hinge Loss (3pts)\n",
    "\n",
    "We consider the hinge loss $\\ell(x, y) = \\max(0, 1-x\\cdot y)$ for $x = t^{(i)}$ and $y = (\\mathbf{w}^T\\mathbf{x}^{(i)} + b_0)$. Note that if $t^{(i)}(\\mathbf{w}^T\\mathbf{x}^{(i)} + b_0)\\geq 0$ (meaning the pair $\\left\\{\\mathbf{x}^{(i)}\\right\\}$ is correctly classified), the output of the hinge function is $0$. On the other hand, if $t^{(i)}(\\mathbf{w}^T\\mathbf{x}^{(i)} + b_0)<0$ (which corresponds to a pair that is incorrectly classified, as can occur when the data is not linearly separable), then the cost is $1 - t^{(i)}(\\mathbf{w}^T\\mathbf{x}^{(i)} + b_0)$ (i.e. we can think of this cost as by how much we violate the constraint $t^{(i)}(\\mathbf{w}^T\\mathbf{x}^{(i)} + b_0)\\geq 1$).  From this, we can now write the objective as\n",
    "\n",
    "\\begin{align}\n",
    "\\min_{\\mathbf{w}, b_0} &\\quad  \\|\\mathbf{w}\\|^2 + C\\sum_{i} \\max(0, 1 - t^{(i)}(\\mathbf{w}^T\\mathbf{x}^{(i)} + b_0))\n",
    "\\end{align}\n",
    "\n",
    "Instead of weighting the constraints, we can weight the first term. This gives a similar formulation of the form\n",
    "\n",
    "\\begin{align}\n",
    "\\min_{\\mathbf{w}, b_0} &\\quad  \\frac{1}{N}\\sum_{i=1}^{N} \\left\\{\\frac{\\lambda}{2} \\|\\mathbf{w}\\|^2 + \\max(0, 1 - t^{(i)}(\\mathbf{w}^T\\mathbf{x}^{(i)} + b_0))\\right\\}\\quad (****)\n",
    "\\end{align}\n",
    "\n",
    "The PEGASOS algorithm finds the corresponding Soft Margin classifier by applying batch gradient descent to this last objective. \n",
    "\n",
    "What is the gradient of the Hinge loss?"
   ]
  },
  {
   "cell_type": "code",
   "execution_count": 70,
   "metadata": {},
   "outputs": [],
   "source": [
    "def hingLoss(X, y):\n",
    "\n",
    "    return max(0, 1 - X*y)\n"
   ]
  },
  {
   "cell_type": "markdown",
   "metadata": {},
   "source": [
    "#### Question II.2 Maximum Margin Classifier from scratch (7pts)\n",
    "\n",
    "Using your answer to question II.2.1 above, implement the PEGASOS algorithm. Use a simple batch gradient descent approach with a sufficiently small learning rate (let us say $\\eta = 1e-4$). Update the lambda as $1/t$ where $t$ is the step counter. "
   ]
  },
  {
   "cell_type": "code",
   "execution_count": 71,
   "metadata": {},
   "outputs": [],
   "source": [
    "def approximatePEGASOS(X, y, lambda0, eta):\n",
    "    \n",
    "    '''The function takes as input a set of sample pairs {x^{(i)}, t_^{(i)}} as well as an initial value for b0 \n",
    "    and a value for the learning rate eta. It should return the weight vector w and the bias b0 \n",
    "    for the Max Margin Classifier'''\n",
    "    \n",
    "    w = np.array(np.zeros(X.shape[1]))\n",
    "    \n",
    "    for i in range(1000):\n",
    "        for j in range(X.shape[0]):\n",
    "            g = (-1 * y[j] * X[j]) if hingLoss(y[j], w.dot(X[j])) > 0 else 0\n",
    "            w = w + (g - 2 * w * eta) * eta\n",
    "    return w\n"
   ]
  },
  {
   "cell_type": "markdown",
   "metadata": {},
   "source": [
    "Apply the algorithm to the dataset below"
   ]
  },
  {
   "cell_type": "code",
   "execution_count": 72,
   "metadata": {},
   "outputs": [
    {
     "data": {
      "image/png": "[encoded data removed]",
      "text/plain": [
       "<Figure size 432x288 with 1 Axes>"
      ]
     },
     "metadata": {
      "needs_background": "light"
     },
     "output_type": "display_data"
    }
   ],
   "source": [
    "from sklearn.datasets import make_blobs\n",
    "import matplotlib.pyplot as plt\n",
    "import numpy as np\n",
    "\n",
    "X = np.load('Ex2_HW2_X.npy') \n",
    "Y = np.load('Ex2_HW2_t.npy') \n",
    "\n",
    "XEx2_Class1 = X[Y==0,:]\n",
    "XEx2_Class2 = X[Y==1,:]\n",
    "\n",
    "X = np.column_stack([np.ones(len(X)), X])\n",
    "Y[Y==0] = -1\n",
    "\n",
    "beta = approximatePEGASOS(X, Y, 1, 0.0001)\n",
    "\n",
    "x_min, x_max = np.amin(X[:,1]), np.amax(X[:,1])\n",
    "y_min, y_max = np.amin(X[:,2]), np.amax(X[:,2])\n",
    "x_mat, y_mat = np.meshgrid(np.linspace(x_min, x_max, 100), np.linspace(y_min, y_max, 100))\n",
    "\n",
    "tup1 = np.ones((len(x_mat.flatten()),1))\n",
    "tup2 = np.vstack((x_mat.flatten(), y_mat.flatten())).T\n",
    "\n",
    "mesh = np.hstack((tup1, tup2))\n",
    "\n",
    "pred = np.dot(beta.T, mesh.T)\n",
    "pred[pred < 0.5] = 0\n",
    "pred[pred > 0.5] = 1\n",
    "\n",
    "plt.contourf(x_mat, y_mat, np.reshape(pred, (100,100)), \n",
    "             alpha = 0.1, cmap = ListedColormap(('blue', 'red')))\n",
    "plt.scatter(XEx2_Class1[:, 0], XEx2_Class1[:, 1], marker='o', c='r',\n",
    "            s=35)\n",
    "plt.scatter(XEx2_Class2[:, 0], XEx2_Class2[:, 1], marker='o', c='b',\n",
    "            s=35)\n",
    "\n",
    "plt.show()\n"
   ]
  },
  {
   "cell_type": "markdown",
   "metadata": {},
   "source": [
    "#### Bonus II.3. dynamic learning rate. (3pts) \n",
    "The exact PEGASOS algorithm updates the learning rate dynamically as $\\eta_t = \\lambda \\cdot  t$ for some particular choice of $\\lambda$ and where $t$ denotes the step counter. Modify the approximate version of the PEGASOS algorithm that you derived in question II.2.2 to make it work with such a dynamical learning rate. "
   ]
  },
  {
   "cell_type": "code",
   "execution_count": 73,
   "metadata": {},
   "outputs": [],
   "source": [
    "def PEGASOS(X, t, lambdaPG, eta):\n",
    "    \n",
    "    '''The function takes as input a set of sample pairs {x^{(i)}, t_^{(i)}} as well as an initial value for b0 \n",
    "    and a value for the learning rate eta. It should return the weight vector w and the bias b0 \n",
    "    for the Max Margin Classifier'''\n",
    "    \n",
    "    \n",
    "       \n",
    "\n",
    "\n",
    "\n",
    "    \n",
    "    return w, b0\n"
   ]
  },
  {
   "cell_type": "markdown",
   "metadata": {
    "collapsed": true
   },
   "source": [
    "### Exercise III: Computational drug design: Part I, Training on Thrombin (10pts)\n",
    "\n",
    "With the recent spreading of the COVID-19 \"Corona\" Virus. Many initiatives relying on Machine Learning, have been taken to find new drugs that would be able to prevent the virus from infecting host cells. The Human Angiotensin-Converting Enzyme 2 (ACE2) has been proved by many studies to be the specific receptor for the Spike RBD of SARS-CoV. A common approach (followed for example for researchers at Oak Ridge National Laboratory) is to design compounds (such as the one shown in gray in the figure above) that would be able to bind to the SARS-CoV-2 spike protein (shown in cyan), thus making the virus unable to dock to the human ACE2 receptors (shown in purple in the figure below). \n"
   ]
  },
  {
   "cell_type": "markdown",
   "metadata": {},
   "source": [
    "<img src=\"corona.png\" alt=\"Drawing\" style=\"width: 400px;\"/>"
   ]
  },
  {
   "cell_type": "markdown",
   "metadata": {},
   "source": [
    "Source: [Physics.org](https://phys.org/news/2020-03-early-drug-compounds-supercomputing-combat.html)"
   ]
  },
  {
   "cell_type": "markdown",
   "metadata": {
    "collapsed": true
   },
   "source": [
    "We do not have enough data on the COVID-19 yet so we are going to train on an older computational drug design dataset from NIPS 2003. The general idea is the same. A Drug is a small organic molecule that can achieve its desired activity by binding to a target site on a receptor. The first step in the discovery of a new drug is usually to identify and isolate the receptor to which it should bind, followed by testing many small molecules for their ability to bind to the target site (see the [UCI ML Repo](https://archive.ics.uci.edu/ml/datasets/Dorothea) for more details). For this particular dataset, we are interested in checking which compounds can or cannot bind to thrombin. "
   ]
  },
  {
   "cell_type": "markdown",
   "metadata": {},
   "source": [
    "#### Question III.1 (4pts)\n",
    "Start by downloading the DOROTHEA dataset on the [UCI ML website ](https://archive.ics.uci.edu/ml/datasets/Dorothea). Once you have downloaded the data, as we did for face recognition, use the PCA module from scikit-learn to reduce the dimension of your feature vectors from their initial size (100000) to about 100. Split the data into a training and test part using the train_test_split module from scikit learn  "
   ]
  },
  {
   "cell_type": "code",
   "execution_count": 74,
   "metadata": {},
   "outputs": [],
   "source": [
    "import numpy as np\n",
    "from sklearn.model_selection import train_test_split\n",
    "from sklearn.svm import SVC\n",
    "\n",
    "# Start by splitting the dataset into a training part and a validation part (take about 80 to 90% training data)\n",
    "\n",
    "\n",
    "f = open('dorothea_train.data', \"r\")\n",
    "line1 = f.readline()\n",
    "line1 = map(int, line1.split())\n",
    "L1 = len(list(line1))\n",
    "\n",
    "maxNumData = 799\n",
    "tmp = np.zeros((maxNumData, 100000))\n",
    "for i in range(maxNumData):\n",
    "   \n",
    "    line = f.readline()\n",
    "    line = map(int, line.split())\n",
    "    line = np.array(list(line))\n",
    "    line.astype(int)\n",
    "    tmp[i,line-1]=1\n",
    "\n",
    "# computing PCA\n",
    "from sklearn.decomposition import PCA\n",
    "pca = PCA(n_components=100)\n",
    "pca.fit(tmp)\n",
    "tmp_transformed = pca.transform(tmp)\n",
    "\n",
    "\n",
    "f = open('dorothea_train.labels', \"r\")\n",
    "line1 = f.readline()\n",
    "\n",
    "maxNumData = 799\n",
    "labels = []\n",
    "for i in range(maxNumData):\n",
    "    line = f.readline()\n",
    "    labels.append(int(line[:-1]))\n",
    "\n",
    "# Use the PCA module to reduce compress the feature vectors\n",
    "\n",
    "#print(labels)\n",
    "X_train, X_valid, y_train, y_valid = train_test_split(tmp_transformed, labels, test_size=0.10)"
   ]
  },
  {
   "cell_type": "markdown",
   "metadata": {
    "collapsed": true
   },
   "source": [
    " #### Question III.2 (6pts)\n",
    "\n",
    "Once you have learned the compressed representation for your samples, learn the following two classifiers\n",
    "\n",
    "- SVC with RBF kernel (Combine the SVC with GridSearchCVto determine the optimal values for $C$ (how much you penalize misclassification) and $\\gamma$ (width of kernel)). To start you can take your grid to be defined as below\n",
    "\n",
    "param_grid = {'C': [1e2, 5e2, 1e3, 1e4, 5e4],\n",
    "              'gamma': [0.0005, 0.001, 0.005, 0.01, 0.1], }\n",
    "\n",
    "Keep in mind that larger $\\gamma$ means smaller kernel. I.e. $K(x, y) = exp(-gamma ||x-y||^2)$. $C$ is defined as in exercise II. \n",
    "\n",
    "- Logistic regression classifier "
   ]
  },
  {
   "cell_type": "code",
   "execution_count": 75,
   "metadata": {},
   "outputs": [
    {
     "name": "stderr",
     "output_type": "stream",
     "text": [
      "/Users/jordanramos/opt/anaconda3/lib/python3.7/site-packages/sklearn/model_selection/_split.py:1978: FutureWarning: The default value of cv will change from 3 to 5 in version 0.22. Specify it explicitly to silence this warning.\n",
      "  warnings.warn(CV_WARNING, FutureWarning)\n"
     ]
    },
    {
     "data": {
      "text/plain": [
       "0.9625"
      ]
     },
     "execution_count": 75,
     "metadata": {},
     "output_type": "execute_result"
    }
   ],
   "source": [
    "from sklearn.model_selection import GridSearchCV\n",
    "from sklearn.decomposition import PCA\n",
    "from sklearn.svm import SVC\n",
    "from sklearn.linear_model import LogisticRegression\n",
    "\n",
    "gsc = GridSearchCV(\n",
    "        estimator=SVC(kernel='rbf'),\n",
    "        param_grid={\n",
    "            'C': [1e2, 5e2, 1e3, 1e4, 5e4],\n",
    "            'gamma': [0.0005, 0.001, 0.005, 0.01, 0.1]\n",
    "        })\n",
    "\n",
    "grid_result = gsc.fit(X_train, y_train)\n",
    "best_params = grid_result.best_params_\n",
    "best_svc = SVC(kernel='rbf', C=best_params[\"C\"], gamma=best_params[\"gamma\"])\n",
    "\n",
    "best_svc.fit(X_train, y_train)\n",
    "best_svc.score(X_valid, y_valid)"
   ]
  },
  {
   "cell_type": "code",
   "execution_count": 76,
   "metadata": {},
   "outputs": [
    {
     "name": "stderr",
     "output_type": "stream",
     "text": [
      "/Users/jordanramos/opt/anaconda3/lib/python3.7/site-packages/sklearn/linear_model/logistic.py:432: FutureWarning: Default solver will be changed to 'lbfgs' in 0.22. Specify a solver to silence this warning.\n",
      "  FutureWarning)\n"
     ]
    },
    {
     "data": {
      "text/plain": [
       "0.975"
      ]
     },
     "execution_count": 76,
     "metadata": {},
     "output_type": "execute_result"
    }
   ],
   "source": [
    "clf = LogisticRegression().fit(X_train, y_train)\n",
    "clf.score(X_valid, y_valid)"
   ]
  },
  {
   "cell_type": "markdown",
   "metadata": {},
   "source": [
    "### Bonus : Computational drug design. Part II: Tackling COVID-19\n",
    "\n",
    "Now that you understand the basic idea behind computational drug design, we are ready to try to tackle the real challenge. A couple of days ago, Sage Health started a competition which was aimed at developing new drugs to fight corona virus. The competition, which was [advertised through youtube](https://www.youtube.com/watch?v=1LJgkovowgA), is now closed. However it would be interesting to see whether anybody could make additional discoveries from the data. Check the competition video and try to implement some of the step, using the data from the github pages of the winners (see here for the main [SageHealth webpage](https://www.sage-health.org/) and [https://www.sage-health.org/coronavirus/](here for the links to each of the winners github pages)) \n",
    "\n",
    "Points for this question depends on how far you can go. "
   ]
  }
 ],
 "metadata": {
  "kernelspec": {
   "display_name": "Python 3",
   "language": "python",
   "name": "python3"
  },
  "language_info": {
   "codemirror_mode": {
    "name": "ipython",
    "version": 3
   },
   "file_extension": ".py",
   "mimetype": "text/x-python",
   "name": "python",
   "nbconvert_exporter": "python",
   "pygments_lexer": "ipython3",
   "version": "3.7.4"
  }
 },
 "nbformat": 4,
 "nbformat_minor": 2
}
